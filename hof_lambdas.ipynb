{
 "cells": [
  {
   "cell_type": "code",
   "execution_count": null,
   "metadata": {},
   "outputs": [],
   "source": [
    "# Python HOF and Lambdas\n",
    "\n",
    "# The second argument of the processSale is a function that receives a double and returns a double.  \n",
    "def processSale(amount, applyTaxFunction):\n",
    "  saleAmount = amount\n",
    "  # For every process sale add 1\n",
    "  if(amount >= 99):\n",
    "    saleAmount = amount + 1.0\n",
    "  \n",
    "  # The processSale function now does not need to know nothing about how tax apply works, it only calls it.\n",
    "  #  This allow easy plugability and decoupling of different aspects of the code that do not mix up.\n",
    "  return applyTaxFunction(saleAmount);\n",
    "\n",
    "# When we call the processSale function we pass a lambda function in its second parameter \n",
    "firstSaleProcessed = processSale(10, lambda amount : amount * (1 + 0.10) )\n",
    "print(firstSaleProcessed)\n",
    "\n",
    "secondSaleProcessed = processSale(99, lambda amount : amount * (1 + 0.20) )\n",
    "print(secondSaleProcessed)"
   ]
  },
  {
   "cell_type": "code",
   "execution_count": null,
   "metadata": {},
   "outputs": [],
   "source": [
    "%scala\n",
    "{\n",
    "\n",
    "// The second argument of the processSale is a function that receives a double and returns a double.  \n",
    "def processSale(amount: Double, applyTaxFunction : Double => Double): Double = {\n",
    "  // For every process sale add 1€\n",
    "  var saleAmount = amount\n",
    "  \n",
    "  if(amount >= 99) saleAmount = amount + 1.0\n",
    "  \n",
    "  // The processSale function now does not need to know nothing about how tax apply works, it only calls it.\n",
    "  //  This allow easy plugability and decoupling of different aspects of the code that do not mix up.\n",
    "  applyTaxFunction(saleAmount)\n",
    "}\n",
    "\n",
    "  \n",
    "// When we call the processSale function we pass a lambda function in its second parameter \n",
    "val firstSaleProcessed = processSale(10, (amount) => amount * (1 + 0.10) )\n",
    "println(firstSaleProcessed)\n",
    "  \n",
    "val secondSaleProcessed = processSale(99, (amount) => amount * (1 + 0.20) )\n",
    "println(secondSaleProcessed)\n",
    "  \n",
    "}"
   ]
  }
 ],
 "metadata": {
  "language_info": {
   "name": "python"
  },
  "orig_nbformat": 4
 },
 "nbformat": 4,
 "nbformat_minor": 2
}
